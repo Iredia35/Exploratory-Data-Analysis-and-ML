{
 "cells": [
  {
   "cell_type": "code",
   "execution_count": 1,
   "id": "ca5e1adb-6f87-4e48-8027-8d98efea930c",
   "metadata": {
    "tags": []
   },
   "outputs": [],
   "source": [
    "import numpy as np\n",
    "import pandas as pd\n",
    "\n",
    "from sklearn.datasets import load_iris\n",
    "\n",
    "from sklearn.model_selection import train_test_split\n",
    "from sklearn.metrics import accuracy_score\n",
    "\n",
    "from sklearn.tree import DecisionTreeClassifier\n",
    "from sklearn import tree"
   ]
  },
  {
   "cell_type": "code",
   "execution_count": 2,
   "id": "41a56abd-e48e-4a95-bade-d33ae92da75c",
   "metadata": {
    "tags": []
   },
   "outputs": [],
   "source": [
    "iris = load_iris()\n",
    "X = iris.data[:, 2:]\n",
    "y = iris.target"
   ]
  },
  {
   "cell_type": "code",
   "execution_count": 3,
   "id": "9bc2da32-d63f-4301-9381-f227d4247286",
   "metadata": {
    "tags": []
   },
   "outputs": [
    {
     "data": {
      "text/html": [
       "<style>#sk-container-id-1 {color: black;}#sk-container-id-1 pre{padding: 0;}#sk-container-id-1 div.sk-toggleable {background-color: white;}#sk-container-id-1 label.sk-toggleable__label {cursor: pointer;display: block;width: 100%;margin-bottom: 0;padding: 0.3em;box-sizing: border-box;text-align: center;}#sk-container-id-1 label.sk-toggleable__label-arrow:before {content: \"▸\";float: left;margin-right: 0.25em;color: #696969;}#sk-container-id-1 label.sk-toggleable__label-arrow:hover:before {color: black;}#sk-container-id-1 div.sk-estimator:hover label.sk-toggleable__label-arrow:before {color: black;}#sk-container-id-1 div.sk-toggleable__content {max-height: 0;max-width: 0;overflow: hidden;text-align: left;background-color: #f0f8ff;}#sk-container-id-1 div.sk-toggleable__content pre {margin: 0.2em;color: black;border-radius: 0.25em;background-color: #f0f8ff;}#sk-container-id-1 input.sk-toggleable__control:checked~div.sk-toggleable__content {max-height: 200px;max-width: 100%;overflow: auto;}#sk-container-id-1 input.sk-toggleable__control:checked~label.sk-toggleable__label-arrow:before {content: \"▾\";}#sk-container-id-1 div.sk-estimator input.sk-toggleable__control:checked~label.sk-toggleable__label {background-color: #d4ebff;}#sk-container-id-1 div.sk-label input.sk-toggleable__control:checked~label.sk-toggleable__label {background-color: #d4ebff;}#sk-container-id-1 input.sk-hidden--visually {border: 0;clip: rect(1px 1px 1px 1px);clip: rect(1px, 1px, 1px, 1px);height: 1px;margin: -1px;overflow: hidden;padding: 0;position: absolute;width: 1px;}#sk-container-id-1 div.sk-estimator {font-family: monospace;background-color: #f0f8ff;border: 1px dotted black;border-radius: 0.25em;box-sizing: border-box;margin-bottom: 0.5em;}#sk-container-id-1 div.sk-estimator:hover {background-color: #d4ebff;}#sk-container-id-1 div.sk-parallel-item::after {content: \"\";width: 100%;border-bottom: 1px solid gray;flex-grow: 1;}#sk-container-id-1 div.sk-label:hover label.sk-toggleable__label {background-color: #d4ebff;}#sk-container-id-1 div.sk-serial::before {content: \"\";position: absolute;border-left: 1px solid gray;box-sizing: border-box;top: 0;bottom: 0;left: 50%;z-index: 0;}#sk-container-id-1 div.sk-serial {display: flex;flex-direction: column;align-items: center;background-color: white;padding-right: 0.2em;padding-left: 0.2em;position: relative;}#sk-container-id-1 div.sk-item {position: relative;z-index: 1;}#sk-container-id-1 div.sk-parallel {display: flex;align-items: stretch;justify-content: center;background-color: white;position: relative;}#sk-container-id-1 div.sk-item::before, #sk-container-id-1 div.sk-parallel-item::before {content: \"\";position: absolute;border-left: 1px solid gray;box-sizing: border-box;top: 0;bottom: 0;left: 50%;z-index: -1;}#sk-container-id-1 div.sk-parallel-item {display: flex;flex-direction: column;z-index: 1;position: relative;background-color: white;}#sk-container-id-1 div.sk-parallel-item:first-child::after {align-self: flex-end;width: 50%;}#sk-container-id-1 div.sk-parallel-item:last-child::after {align-self: flex-start;width: 50%;}#sk-container-id-1 div.sk-parallel-item:only-child::after {width: 0;}#sk-container-id-1 div.sk-dashed-wrapped {border: 1px dashed gray;margin: 0 0.4em 0.5em 0.4em;box-sizing: border-box;padding-bottom: 0.4em;background-color: white;}#sk-container-id-1 div.sk-label label {font-family: monospace;font-weight: bold;display: inline-block;line-height: 1.2em;}#sk-container-id-1 div.sk-label-container {text-align: center;}#sk-container-id-1 div.sk-container {/* jupyter's `normalize.less` sets `[hidden] { display: none; }` but bootstrap.min.css set `[hidden] { display: none !important; }` so we also need the `!important` here to be able to override the default hidden behavior on the sphinx rendered scikit-learn.org. See: https://github.com/scikit-learn/scikit-learn/issues/21755 */display: inline-block !important;position: relative;}#sk-container-id-1 div.sk-text-repr-fallback {display: none;}</style><div id=\"sk-container-id-1\" class=\"sk-top-container\"><div class=\"sk-text-repr-fallback\"><pre>DecisionTreeClassifier(max_depth=2)</pre><b>In a Jupyter environment, please rerun this cell to show the HTML representation or trust the notebook. <br />On GitHub, the HTML representation is unable to render, please try loading this page with nbviewer.org.</b></div><div class=\"sk-container\" hidden><div class=\"sk-item\"><div class=\"sk-estimator sk-toggleable\"><input class=\"sk-toggleable__control sk-hidden--visually\" id=\"sk-estimator-id-1\" type=\"checkbox\" checked><label for=\"sk-estimator-id-1\" class=\"sk-toggleable__label sk-toggleable__label-arrow\">DecisionTreeClassifier</label><div class=\"sk-toggleable__content\"><pre>DecisionTreeClassifier(max_depth=2)</pre></div></div></div></div></div>"
      ],
      "text/plain": [
       "DecisionTreeClassifier(max_depth=2)"
      ]
     },
     "execution_count": 3,
     "metadata": {},
     "output_type": "execute_result"
    }
   ],
   "source": [
    "tree_clf = DecisionTreeClassifier(max_depth=2)\n",
    "tree_clf.fit(X, y)"
   ]
  },
  {
   "cell_type": "code",
   "execution_count": 4,
   "id": "a687c479-6bfe-4e32-836c-138f9e2a5b1d",
   "metadata": {
    "collapsed": true,
    "jupyter": {
     "outputs_hidden": true
    },
    "tags": []
   },
   "outputs": [
    {
     "ename": "NameError",
     "evalue": "name 'export_graphiz' is not defined",
     "output_type": "error",
     "traceback": [
      "\u001b[1;31m---------------------------------------------------------------------------\u001b[0m",
      "\u001b[1;31mNameError\u001b[0m                                 Traceback (most recent call last)",
      "Cell \u001b[1;32mIn[4], line 2\u001b[0m\n\u001b[0;32m      1\u001b[0m \u001b[38;5;28;01mfrom\u001b[39;00m \u001b[38;5;21;01msklearn\u001b[39;00m\u001b[38;5;21;01m.\u001b[39;00m\u001b[38;5;21;01mtree\u001b[39;00m \u001b[38;5;28;01mimport\u001b[39;00m export_graphviz\n\u001b[1;32m----> 2\u001b[0m export_graphiz(\n\u001b[0;32m      3\u001b[0m  tree_clf,\n\u001b[0;32m      4\u001b[0m  out_file\u001b[38;5;241m=\u001b[39mimage_path(\u001b[38;5;124m\"\u001b[39m\u001b[38;5;124miris_tree.dot\u001b[39m\u001b[38;5;124m\"\u001b[39m),\n\u001b[0;32m      5\u001b[0m  feature_names\u001b[38;5;241m=\u001b[39miris\u001b[38;5;241m.\u001b[39mfeature_names[\u001b[38;5;241m2\u001b[39m:],\n\u001b[0;32m      6\u001b[0m  class_names\u001b[38;5;241m=\u001b[39miris\u001b[38;5;241m.\u001b[39mtarget_names,\n\u001b[0;32m      7\u001b[0m  rounded\u001b[38;5;241m=\u001b[39m\u001b[38;5;28;01mTrue\u001b[39;00m,\n\u001b[0;32m      8\u001b[0m  filled\u001b[38;5;241m=\u001b[39m\u001b[38;5;28;01mTrue\u001b[39;00m\n\u001b[0;32m      9\u001b[0m  )\n",
      "\u001b[1;31mNameError\u001b[0m: name 'export_graphiz' is not defined"
     ]
    }
   ],
   "source": [
    "from sklearn.tree import export_graphviz\n",
    "export_graphiz(\n",
    " tree_clf,\n",
    " out_file=image_path(\"iris_tree.dot\"),\n",
    " feature_names=iris.feature_names[2:],\n",
    " class_names=iris.target_names,\n",
    " rounded=True,\n",
    " filled=True\n",
    " )"
   ]
  },
  {
   "cell_type": "code",
   "execution_count": null,
   "id": "dbf73aff-f26e-45ca-aff0-8ac13c0c409f",
   "metadata": {
    "tags": []
   },
   "outputs": [],
   "source": [
    "from typing import List \n",
    "import math \n",
    " \n",
    "def entropy(class_probabilities: List[float]) -> float: \n",
    "    \"\"\"Given a list of class probabilities, compute the entropy\"\"\" \n",
    "    return sum(-p * math.log(p, 2) \n",
    "               for p in class_probabilities \n",
    "               if p > 0)                     # ignore zero probabilities \n",
    " \n",
    "print(entropy([1.0]) == 0)\n",
    "print(entropy([0.5, 0.5]) == 1)\n",
    "print(0.81 < entropy([0.25, 0.75]) < 0.82)\n",
    "\n"
   ]
  },
  {
   "cell_type": "code",
   "execution_count": null,
   "id": "e4a01d06-6718-4022-8288-01ac053dcd27",
   "metadata": {
    "tags": []
   },
   "outputs": [],
   "source": [
    "from typing import Any \n",
    "from collections import Counter \n",
    "def class_probabilities(labels: List[Any]) -> List[float]: \n",
    "    total_count = len(labels) \n",
    "    return [count / total_count \n",
    "        for count in Counter(labels).values()] \n",
    "def data_entropy(labels: List[Any]) -> float: \n",
    "    return entropy(class_probabilities(labels)) \n",
    "\n",
    "print(data_entropy(['a']) == 0 )\n",
    "print(data_entropy([True, False]) == 1)\n",
    "print(data_entropy([3, 4, 4, 4]) == entropy([0.25, 0.75]))"
   ]
  },
  {
   "cell_type": "code",
   "execution_count": null,
   "id": "5458bb0b-c9b9-4cab-b1f8-eb2d96f80d56",
   "metadata": {
    "tags": []
   },
   "outputs": [],
   "source": [
    "def partition_entropy(subsets: List[List[Any]]) -> float: \n",
    "    \"\"\"Returns the entropy from this partition of data into subsets\"\"\" \n",
    "    total_count = sum(len(subset) for subset in subsets) \n",
    "    return sum(data_entropy(subset) * len(subset) / total_count for subset in subsets)"
   ]
  },
  {
   "cell_type": "code",
   "execution_count": null,
   "id": "43fe98a5-99e5-40e1-adad-6b08f49f9fac",
   "metadata": {},
   "outputs": [],
   "source": []
  },
  {
   "cell_type": "code",
   "execution_count": null,
   "id": "f6ec1261-681a-411e-a0c7-6f23193459e6",
   "metadata": {
    "tags": []
   },
   "outputs": [],
   "source": [
    "from typing import NamedTuple, Optional, Dict, TypeVar, DefaultDict"
   ]
  },
  {
   "cell_type": "code",
   "execution_count": null,
   "id": "4221c0bf-5301-48fb-95d8-62ce6b7cfb07",
   "metadata": {
    "tags": []
   },
   "outputs": [],
   "source": [
    "class Candidate(NamedTuple): \n",
    "    level: str \n",
    "    lang: str \n",
    "    tweets: bool \n",
    "    phd: bool \n",
    "    did_well: Optional[bool] = None "
   ]
  },
  {
   "cell_type": "code",
   "execution_count": null,
   "id": "b3f81e08-01e0-42bf-9ec7-7367e4b0b8e9",
   "metadata": {
    "tags": []
   },
   "outputs": [],
   "source": [
    "inputs = [Candidate('Senior', 'Java',   False, False, False), \n",
    "          Candidate('Senior', 'Java',   False, True,  False), \n",
    "          Candidate('Mid',    'Python', False, False, True), \n",
    "          Candidate('Junior', 'Python', False, False, True), \n",
    "          Candidate('Junior', 'R',      True,  False, True), \n",
    "          Candidate('Junior', 'R',      True,  True,  False), \n",
    "          Candidate('Mid',    'R',      True,  True,  True), \n",
    "          Candidate('Senior', 'Python', False, False, False), \n",
    "          Candidate('Senior', 'R',      True,  False, True), \n",
    "          Candidate('Junior', 'Python', True,  False, True), \n",
    "          Candidate('Senior', 'Python', True,  True,  True), \n",
    "          Candidate('Mid',    'Python', False, True,  True), \n",
    "          Candidate('Mid',    'Java',   True,  False, True), \n",
    "          Candidate('Junior', 'Python', False, True,  False) \n",
    "         ]"
   ]
  },
  {
   "cell_type": "code",
   "execution_count": null,
   "id": "18a717f7-af52-46aa-9af3-3c604b9488bf",
   "metadata": {
    "tags": []
   },
   "outputs": [],
   "source": [
    "T = TypeVar('T')\n",
    "\n",
    "def partition_by(inputs: List[T], attribute: str) -> Dict[Any, List[T]]: \n",
    "    \"\"\"Partition the inputs into lists based on the specified attribute.\"\"\" \n",
    "    partitions: Dict[Any, List[T]] = DefaultDict(list) \n",
    "    for input in inputs: \n",
    "        key = getattr(input, attribute)  # value of the specified attribute \n",
    "        partitions[key].append(input)    # add input to the correct partition \n",
    "    return partitions"
   ]
  },
  {
   "cell_type": "code",
   "execution_count": null,
   "id": "f60fc20a-49d7-41c5-9ae1-ab9ba276788e",
   "metadata": {
    "tags": []
   },
   "outputs": [],
   "source": [
    "def partition_entropy_by(inputs: List[Any], attribute: str, label_attribute: str) -> float: \n",
    "    \"\"\"Compute the entropy corresponding to the given partition\"\"\" \n",
    "    # partitions consist of our inputs \n",
    "    partitions = partition_by(inputs, attribute) \n",
    " \n",
    "    # but partition_entropy needs just the class labels \n",
    "    labels = [[getattr(input, label_attribute) for input in partition] for partition in partitions.values()] \n",
    "    return partition_entropy(labels)"
   ]
  },
  {
   "cell_type": "code",
   "execution_count": null,
   "id": "3eed1b82-6b78-45b2-b0da-36edbbe1ec76",
   "metadata": {},
   "outputs": [],
   "source": []
  },
  {
   "cell_type": "code",
   "execution_count": null,
   "id": "e28d240c-abcf-4d9b-ad10-6d5bb54244c9",
   "metadata": {
    "tags": []
   },
   "outputs": [],
   "source": [
    "for key in ['level','lang','tweets','phd']: \n",
    "    print(key, partition_entropy_by(inputs, key, 'did_well')) \n",
    "    \n",
    "print(0.69 < partition_entropy_by(inputs, 'level', 'did_well')  < 0.70)\n",
    "print(0.86 < partition_entropy_by(inputs, 'lang', 'did_well')   < 0.87)\n",
    "print(0.78 < partition_entropy_by(inputs, 'tweets', 'did_well') < 0.79)\n",
    "print(0.89 < partition_entropy_by(inputs, 'phd', 'did_well') < 0.90)"
   ]
  },
  {
   "cell_type": "raw",
   "id": "3ccdce84-a83c-42bc-888d-40a2b8626899",
   "metadata": {},
   "source": [
    "A project to work on"
   ]
  },
  {
   "cell_type": "code",
   "execution_count": null,
   "id": "90824045-10b2-4d47-b52b-6f5fc0b5265f",
   "metadata": {
    "tags": []
   },
   "outputs": [],
   "source": [
    "balance_data = pd.read_csv('DTS.csv', names=['Initial Payments', 'Last Payment', 'Credit Score', 'House Number','Sum','Result'],sep=',', header=0)"
   ]
  },
  {
   "cell_type": "code",
   "execution_count": null,
   "id": "eaa8f5b8-c80b-4a9c-a2a6-4e29173b903a",
   "metadata": {
    "tags": []
   },
   "outputs": [],
   "source": [
    "balance_data"
   ]
  },
  {
   "cell_type": "code",
   "execution_count": null,
   "id": "b53a85e5-8053-4b65-9e4e-f460f8fd1c33",
   "metadata": {
    "tags": []
   },
   "outputs": [],
   "source": [
    "balance_data.shape\n",
    "balance_data = balance_data.drop('Sum', axis=1)"
   ]
  },
  {
   "cell_type": "code",
   "execution_count": null,
   "id": "aec8e6f0-d088-4dc3-aa20-f4d57c55ed99",
   "metadata": {
    "tags": []
   },
   "outputs": [],
   "source": [
    "balance_data.head()"
   ]
  },
  {
   "cell_type": "code",
   "execution_count": null,
   "id": "870c1e2e-8960-4fc2-a814-839dd2f72fa0",
   "metadata": {
    "tags": []
   },
   "outputs": [],
   "source": [
    "X = balance_data.values[:, 0:4]\n",
    "y = balance_data.values[:, 4]\n",
    "\n",
    "X_train, X_test, y_train, y_test = train_test_split(X, y, test_size=0.3, random_state=100)\n",
    "\n",
    "clf_entropy = DecisionTreeClassifier(criterion = 'entropy', random_state=100, max_depth=3, min_samples_leaf=5)\n",
    "clf_entropy.fit(X_train, y_train)"
   ]
  },
  {
   "cell_type": "code",
   "execution_count": null,
   "id": "7363d697-91bf-46b8-9b00-b27bea199239",
   "metadata": {
    "tags": []
   },
   "outputs": [],
   "source": [
    "y_pred_en = clf_entropy.predict(X_test)\n",
    "y_pred_en"
   ]
  },
  {
   "cell_type": "code",
   "execution_count": null,
   "id": "0bd77955-3d29-4b08-ad57-282f169741b5",
   "metadata": {
    "tags": []
   },
   "outputs": [],
   "source": [
    "print('level of accuracy: ', accuracy_score(y_test, y_pred_en)*100)"
   ]
  },
  {
   "cell_type": "code",
   "execution_count": null,
   "id": "1d160c78-4e8c-464d-83ea-4dafb93b876f",
   "metadata": {
    "collapsed": true,
    "jupyter": {
     "outputs_hidden": true
    },
    "tags": []
   },
   "outputs": [],
   "source": [
    "balance_data.values[:, 0:4]"
   ]
  },
  {
   "cell_type": "code",
   "execution_count": null,
   "id": "53f37352-f7ca-4b9d-85f9-64c50fa4bd10",
   "metadata": {
    "collapsed": true,
    "jupyter": {
     "outputs_hidden": true
    },
    "tags": []
   },
   "outputs": [],
   "source": [
    "balance_data.values[:, 3]"
   ]
  },
  {
   "cell_type": "code",
   "execution_count": null,
   "id": "d6e3b451-e463-4525-a7ea-8121c81ba58e",
   "metadata": {
    "tags": []
   },
   "outputs": [],
   "source": [
    "print(90)"
   ]
  },
  {
   "cell_type": "code",
   "execution_count": null,
   "id": "dc9c70ed",
   "metadata": {},
   "outputs": [],
   "source": []
  }
 ],
 "metadata": {
  "kernelspec": {
   "display_name": "Python 3 (ipykernel)",
   "language": "python",
   "name": "python3"
  },
  "language_info": {
   "codemirror_mode": {
    "name": "ipython",
    "version": 3
   },
   "file_extension": ".py",
   "mimetype": "text/x-python",
   "name": "python",
   "nbconvert_exporter": "python",
   "pygments_lexer": "ipython3",
   "version": "3.11.4"
  },
  "toc-autonumbering": true,
  "toc-showtags": false
 },
 "nbformat": 4,
 "nbformat_minor": 5
}
